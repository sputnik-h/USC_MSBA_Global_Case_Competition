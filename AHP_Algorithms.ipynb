{
  "nbformat": 4,
  "nbformat_minor": 0,
  "metadata": {
    "colab": {
      "provenance": []
    },
    "kernelspec": {
      "name": "python3",
      "display_name": "Python 3"
    },
    "language_info": {
      "name": "python"
    }
  },
  "cells": [
    {
      "cell_type": "code",
      "source": [
        "import numpy as np"
      ],
      "metadata": {
        "id": "4xFUyO6NmfaW"
      },
      "execution_count": null,
      "outputs": []
    },
    {
      "cell_type": "code",
      "execution_count": null,
      "metadata": {
        "id": "YrxrhNdJhICH"
      },
      "outputs": [],
      "source": [
        "def get_pairwise_comparisons(factors):\n",
        "    n = len(factors)\n",
        "    matrix = [[0] * n for _ in range(n)]\n",
        "    comparisons = {}\n",
        "\n",
        "    for i in range(n):\n",
        "        for j in range(i + 1, n):\n",
        "            factor1 = factors[i]\n",
        "            factor2 = factors[j]\n",
        "            comparison = float(input(f\"On a scale of 1-9, how much is '{factor1}' more important than '{factor2}'? If less important, use reciprocal.\"))\n",
        "\n",
        "            if comparison < 0 or comparison > 9:\n",
        "                print(\"Please enter a number between 0 and 9.\")\n",
        "                return get_pairwise_comparisons(factors)\n",
        "\n",
        "            comparisons[(factor1, factor2)] = comparison\n",
        "            comparisons[(factor2, factor1)] = 1 / comparison\n",
        "\n",
        "    for i in range(n):\n",
        "        for j in range(n):\n",
        "            if i == j:\n",
        "                matrix[i][j] = 1\n",
        "            else:\n",
        "                matrix[i][j] = comparisons[(factors[i], factors[j])]\n",
        "\n",
        "    return matrix"
      ]
    },
    {
      "cell_type": "code",
      "source": [
        "# Example usage\n",
        "#factors = [\"Commute Time\", \"Safety\", \"Drive_Through Access\"]\n",
        "#comparison_matrix = get_pairwise_comparisons(factors)"
      ],
      "metadata": {
        "id": "nBdosrOWiLTA"
      },
      "execution_count": null,
      "outputs": []
    },
    {
      "cell_type": "code",
      "source": [
        "def calculate_priority_vector(pairwise_matrix):\n",
        "    # Calculate the column sum\n",
        "    col_sums = np.sum(pairwise_matrix, axis=0)\n",
        "\n",
        "    # Normalize each column by its sum\n",
        "    normalized_matrix = pairwise_matrix / col_sums\n",
        "\n",
        "    # Calculate the mean of each row\n",
        "    priority_vector = np.mean(normalized_matrix, axis=1)\n",
        "\n",
        "    return priority_vector"
      ],
      "metadata": {
        "id": "g_XNz34Vmdb1"
      },
      "execution_count": null,
      "outputs": []
    },
    {
      "cell_type": "code",
      "source": [
        "#factors_priority_vector = calculate_priority_vector(comparison_matrix)"
      ],
      "metadata": {
        "id": "zRiYtHdBoG5S"
      },
      "execution_count": null,
      "outputs": []
    },
    {
      "cell_type": "code",
      "source": [
        "#factors_priority_vector"
      ],
      "metadata": {
        "id": "7cVU2neI59tD"
      },
      "execution_count": null,
      "outputs": []
    },
    {
      "cell_type": "code",
      "source": [
        "def get_alternative_pairwise_comparisons(factors, alternatives):\n",
        "    m = len(alternatives)\n",
        "    n = len(factors)\n",
        "    matrix_dictonary = {}\n",
        "\n",
        "    for i in range(n):\n",
        "      factor = factors[i]\n",
        "      comparisons = {}\n",
        "      matrix = [[0] * m for _ in range(m)]\n",
        "      for j in range(m):\n",
        "        for k in range(j + 1, m):\n",
        "            alternative1 = alternatives[j]\n",
        "            alternative2 = alternatives[k]\n",
        "\n",
        "            comparison = float(input(f\"On a scale of 1-9, how much better is '{alternative1}' compared to '{alternative2}' in terms of '{factor}'? If less better, use reciprocal.\"))\n",
        "\n",
        "            if comparison < 0 or comparison > 9:\n",
        "                print(\"Please enter a number between 0 and 9.\")\n",
        "                return get_alternative_pairwise_comparisons(factors, alternatives)\n",
        "\n",
        "            comparisons[(alternative1, alternative2)] = comparison\n",
        "            comparisons[(alternative2, alternative1)] = 1 / comparison\n",
        "\n",
        "      for i in range(m):\n",
        "          for j in range(m):\n",
        "              if i == j:\n",
        "                  matrix[i][j] = 1\n",
        "              else:\n",
        "                  matrix[i][j] = comparisons[(alternatives[i], alternatives[j])]\n",
        "\n",
        "      matrix_dictonary[factor] = matrix\n",
        "\n",
        "    return matrix_dictonary"
      ],
      "metadata": {
        "id": "pVCg4gH3ttZb"
      },
      "execution_count": null,
      "outputs": []
    },
    {
      "cell_type": "code",
      "source": [
        "#alternatives = ['Route A', 'Route B', 'Route C']\n",
        "#matrix_dictionary = get_alternative_pairwise_comparisons(factors, alternatives)"
      ],
      "metadata": {
        "id": "tKUM3eEwyDLm"
      },
      "execution_count": null,
      "outputs": []
    },
    {
      "cell_type": "code",
      "source": [
        "#matrix_dictionary"
      ],
      "metadata": {
        "id": "av7pZMMZ3ikk"
      },
      "execution_count": null,
      "outputs": []
    },
    {
      "cell_type": "code",
      "source": [
        "def calculate_priority_vector_for_each_alternative_under_each_factor(matrix_dictionary):\n",
        "    vector_matrix = []\n",
        "\n",
        "    for key,value in matrix_dictionary.items():\n",
        "      vector_matrix.append(calculate_priority_vector(value))\n",
        "\n",
        "    return np.array(vector_matrix)"
      ],
      "metadata": {
        "id": "IlT4Tt8xxbMr"
      },
      "execution_count": null,
      "outputs": []
    },
    {
      "cell_type": "code",
      "source": [
        "#priority_vectors_for_alternatives = calculate_priority_vector_for_each_alternative_under_each_factor(matrix_dictionary)"
      ],
      "metadata": {
        "id": "W2ZL766D2y-O"
      },
      "execution_count": null,
      "outputs": []
    },
    {
      "cell_type": "code",
      "source": [
        "#priority_vectors_for_alternatives"
      ],
      "metadata": {
        "id": "wpk-wIrK5XD2"
      },
      "execution_count": null,
      "outputs": []
    },
    {
      "cell_type": "code",
      "source": [
        "#factors_priority_vector"
      ],
      "metadata": {
        "id": "7a44oC3h6BRB"
      },
      "execution_count": null,
      "outputs": []
    },
    {
      "cell_type": "code",
      "source": [
        "def calculate_final_score(priority_vectors_for_alternatives, factors_priority_vector):\n",
        "    scores = []\n",
        "\n",
        "    for i in range(len(priority_vectors_for_alternatives[0])):\n",
        "      score = 0\n",
        "      for j in range(len(factors_priority_vector)):\n",
        "        score += priority_vectors_for_alternatives[j][i] * factors_priority_vector[j]\n",
        "      scores.append(score)\n",
        "\n",
        "    return scores"
      ],
      "metadata": {
        "id": "s2Que9jK3RRe"
      },
      "execution_count": null,
      "outputs": []
    },
    {
      "cell_type": "code",
      "source": [
        "#calculate_final_score(priority_vectors_for_alternatives, factors_priority_vector)"
      ],
      "metadata": {
        "id": "hCZ7AyBOEwNH"
      },
      "execution_count": null,
      "outputs": []
    },
    {
      "cell_type": "code",
      "source": [
        "def find_AHP_scores(factors, alternatives):\n",
        "  comparison_matrix = get_pairwise_comparisons(factors)\n",
        "\n",
        "  factors_priority_vector = calculate_priority_vector(comparison_matrix)\n",
        "\n",
        "  matrix_dictionary = get_alternative_pairwise_comparisons(factors, alternatives)\n",
        "\n",
        "  priority_vectors_for_alternatives = calculate_priority_vector_for_each_alternative_under_each_factor(matrix_dictionary)\n",
        "\n",
        "  return calculate_final_score(priority_vectors_for_alternatives, factors_priority_vector)"
      ],
      "metadata": {
        "id": "prrWCf5NUCVx"
      },
      "execution_count": null,
      "outputs": []
    },
    {
      "cell_type": "code",
      "source": [
        "factors = [\"Hospitals\", \"Population\", \"Education\", \"Diversity\", 'Infrastructure', 'University', 'Climate Risk', 'Land Cost', 'Labor Cost', 'Energy Cost', 'Tax' ]\n",
        "alternatives = ['Baltimore', 'Cleveland']"
      ],
      "metadata": {
        "id": "JNBjvXtLU5jK"
      },
      "execution_count": null,
      "outputs": []
    },
    {
      "cell_type": "code",
      "source": [
        "#find_AHP_scores(factors, alternatives)"
      ],
      "metadata": {
        "id": "5j5p5mdpU8N_"
      },
      "execution_count": null,
      "outputs": []
    },
    {
      "cell_type": "code",
      "source": [
        "comparison_matrix = get_pairwise_comparisons(factors)\n",
        "\n",
        "factors_priority_vector = calculate_priority_vector(comparison_matrix)"
      ],
      "metadata": {
        "colab": {
          "base_uri": "https://localhost:8080/"
        },
        "id": "3S_8APbyQedF",
        "outputId": "ab19361d-662d-49e5-8b2e-8b7daa621d4c"
      },
      "execution_count": null,
      "outputs": [
        {
          "name": "stdout",
          "output_type": "stream",
          "text": [
            "On a scale of 1-9, how much is 'Hospitals' more important than 'Population'? If less important, use reciprocal.2\n",
            "On a scale of 1-9, how much is 'Hospitals' more important than 'Education'? If less important, use reciprocal.3\n",
            "On a scale of 1-9, how much is 'Hospitals' more important than 'Diversity'? If less important, use reciprocal.6.5\n",
            "On a scale of 1-9, how much is 'Hospitals' more important than 'Infrastructure'? If less important, use reciprocal.2.5\n",
            "On a scale of 1-9, how much is 'Hospitals' more important than 'University'? If less important, use reciprocal.4\n",
            "On a scale of 1-9, how much is 'Hospitals' more important than 'Climate Risk'? If less important, use reciprocal.6\n",
            "On a scale of 1-9, how much is 'Hospitals' more important than 'Land Cost'? If less important, use reciprocal.7\n",
            "On a scale of 1-9, how much is 'Hospitals' more important than 'Labor Cost'? If less important, use reciprocal.6\n",
            "On a scale of 1-9, how much is 'Hospitals' more important than 'Energy Cost'? If less important, use reciprocal.6\n",
            "On a scale of 1-9, how much is 'Hospitals' more important than 'Tax'? If less important, use reciprocal.8\n",
            "On a scale of 1-9, how much is 'Population' more important than 'Education'? If less important, use reciprocal.2.5\n",
            "On a scale of 1-9, how much is 'Population' more important than 'Diversity'? If less important, use reciprocal.5\n",
            "On a scale of 1-9, how much is 'Population' more important than 'Infrastructure'? If less important, use reciprocal.2\n",
            "On a scale of 1-9, how much is 'Population' more important than 'University'? If less important, use reciprocal.3.5\n",
            "On a scale of 1-9, how much is 'Population' more important than 'Climate Risk'? If less important, use reciprocal.6\n",
            "On a scale of 1-9, how much is 'Population' more important than 'Land Cost'? If less important, use reciprocal.6\n",
            "On a scale of 1-9, how much is 'Population' more important than 'Labor Cost'? If less important, use reciprocal.5.5\n",
            "On a scale of 1-9, how much is 'Population' more important than 'Energy Cost'? If less important, use reciprocal.6\n",
            "On a scale of 1-9, how much is 'Population' more important than 'Tax'? If less important, use reciprocal.8.5\n",
            "On a scale of 1-9, how much is 'Education' more important than 'Diversity'? If less important, use reciprocal.4\n",
            "On a scale of 1-9, how much is 'Education' more important than 'Infrastructure'? If less important, use reciprocal.0.33\n",
            "On a scale of 1-9, how much is 'Education' more important than 'University'? If less important, use reciprocal.1\n",
            "On a scale of 1-9, how much is 'Education' more important than 'Climate Risk'? If less important, use reciprocal.4.5\n",
            "On a scale of 1-9, how much is 'Education' more important than 'Land Cost'? If less important, use reciprocal.5\n",
            "On a scale of 1-9, how much is 'Education' more important than 'Labor Cost'? If less important, use reciprocal.5\n",
            "On a scale of 1-9, how much is 'Education' more important than 'Energy Cost'? If less important, use reciprocal.6\n",
            "On a scale of 1-9, how much is 'Education' more important than 'Tax'? If less important, use reciprocal.8\n",
            "On a scale of 1-9, how much is 'Diversity' more important than 'Infrastructure'? If less important, use reciprocal.0.2\n",
            "On a scale of 1-9, how much is 'Diversity' more important than 'University'? If less important, use reciprocal.0.25\n",
            "On a scale of 1-9, how much is 'Diversity' more important than 'Climate Risk'? If less important, use reciprocal.1\n",
            "On a scale of 1-9, how much is 'Diversity' more important than 'Land Cost'? If less important, use reciprocal.0.33\n",
            "On a scale of 1-9, how much is 'Diversity' more important than 'Labor Cost'? If less important, use reciprocal.0.5\n",
            "On a scale of 1-9, how much is 'Diversity' more important than 'Energy Cost'? If less important, use reciprocal.1\n",
            "On a scale of 1-9, how much is 'Diversity' more important than 'Tax'? If less important, use reciprocal.3\n",
            "On a scale of 1-9, how much is 'Infrastructure' more important than 'University'? If less important, use reciprocal.3\n",
            "On a scale of 1-9, how much is 'Infrastructure' more important than 'Climate Risk'? If less important, use reciprocal.5\n",
            "On a scale of 1-9, how much is 'Infrastructure' more important than 'Land Cost'? If less important, use reciprocal.4\n",
            "On a scale of 1-9, how much is 'Infrastructure' more important than 'Labor Cost'? If less important, use reciprocal.5\n",
            "On a scale of 1-9, how much is 'Infrastructure' more important than 'Energy Cost'? If less important, use reciprocal.7\n",
            "On a scale of 1-9, how much is 'Infrastructure' more important than 'Tax'? If less important, use reciprocal.9\n",
            "On a scale of 1-9, how much is 'University' more important than 'Climate Risk'? If less important, use reciprocal.5\n",
            "On a scale of 1-9, how much is 'University' more important than 'Land Cost'? If less important, use reciprocal.4\n",
            "On a scale of 1-9, how much is 'University' more important than 'Labor Cost'? If less important, use reciprocal.3.5\n",
            "On a scale of 1-9, how much is 'University' more important than 'Energy Cost'? If less important, use reciprocal.6.5\n",
            "On a scale of 1-9, how much is 'University' more important than 'Tax'? If less important, use reciprocal.8\n",
            "On a scale of 1-9, how much is 'Climate Risk' more important than 'Land Cost'? If less important, use reciprocal.1.5\n",
            "On a scale of 1-9, how much is 'Climate Risk' more important than 'Labor Cost'? If less important, use reciprocal.1\n",
            "On a scale of 1-9, how much is 'Climate Risk' more important than 'Energy Cost'? If less important, use reciprocal.5\n",
            "On a scale of 1-9, how much is 'Climate Risk' more important than 'Tax'? If less important, use reciprocal.6\n",
            "On a scale of 1-9, how much is 'Land Cost' more important than 'Labor Cost'? If less important, use reciprocal.0.33\n",
            "On a scale of 1-9, how much is 'Land Cost' more important than 'Energy Cost'? If less important, use reciprocal.3\n",
            "On a scale of 1-9, how much is 'Land Cost' more important than 'Tax'? If less important, use reciprocal.5\n",
            "On a scale of 1-9, how much is 'Labor Cost' more important than 'Energy Cost'? If less important, use reciprocal.4\n",
            "On a scale of 1-9, how much is 'Labor Cost' more important than 'Tax'? If less important, use reciprocal.5\n",
            "On a scale of 1-9, how much is 'Energy Cost' more important than 'Tax'? If less important, use reciprocal.3\n"
          ]
        }
      ]
    },
    {
      "cell_type": "code",
      "source": [
        "matrix_dictionary = get_alternative_pairwise_comparisons(factors, alternatives)\n",
        "\n",
        "priority_vectors_for_alternatives = calculate_priority_vector_for_each_alternative_under_each_factor(matrix_dictionary)\n",
        "\n",
        "calculate_final_score(priority_vectors_for_alternatives, factors_priority_vector)"
      ],
      "metadata": {
        "colab": {
          "base_uri": "https://localhost:8080/"
        },
        "id": "ue8WWsa4REFd",
        "outputId": "64c2841a-64a0-4028-b5e0-36f45f36b2aa"
      },
      "execution_count": null,
      "outputs": [
        {
          "name": "stdout",
          "output_type": "stream",
          "text": [
            "On a scale of 1-9, how much better is 'Baltimore' compared to 'Cleveland' in terms of 'Hospitals'? If less better, use reciprocal.0.14\n",
            "On a scale of 1-9, how much better is 'Baltimore' compared to 'Cleveland' in terms of 'Population'? If less better, use reciprocal.2\n",
            "On a scale of 1-9, how much better is 'Baltimore' compared to 'Cleveland' in terms of 'Education'? If less better, use reciprocal.7\n",
            "On a scale of 1-9, how much better is 'Baltimore' compared to 'Cleveland' in terms of 'Diversity'? If less better, use reciprocal.1\n",
            "On a scale of 1-9, how much better is 'Baltimore' compared to 'Cleveland' in terms of 'Infrastructure'? If less better, use reciprocal.0.2\n",
            "On a scale of 1-9, how much better is 'Baltimore' compared to 'Cleveland' in terms of 'University'? If less better, use reciprocal.5\n",
            "On a scale of 1-9, how much better is 'Baltimore' compared to 'Cleveland' in terms of 'Climate Risk'? If less better, use reciprocal.0.33\n",
            "On a scale of 1-9, how much better is 'Baltimore' compared to 'Cleveland' in terms of 'Land Cost'? If less better, use reciprocal.1.5\n",
            "On a scale of 1-9, how much better is 'Baltimore' compared to 'Cleveland' in terms of 'Labor Cost'? If less better, use reciprocal.0.33\n",
            "On a scale of 1-9, how much better is 'Baltimore' compared to 'Cleveland' in terms of 'Energy Cost'? If less better, use reciprocal.0.5\n",
            "On a scale of 1-9, how much better is 'Baltimore' compared to 'Cleveland' in terms of 'Tax'? If less better, use reciprocal.0.33\n"
          ]
        },
        {
          "output_type": "execute_result",
          "data": {
            "text/plain": [
              "[0.4377218472703023, 0.5622781527296977]"
            ]
          },
          "metadata": {},
          "execution_count": 21
        }
      ]
    },
    {
      "cell_type": "code",
      "source": [
        "factors = [\"Hospitals\", \"Population\", \"Education\", \"Diversity\", 'Infrastructure', 'University', 'Climate Risk', 'Land Cost', 'Labor Cost', 'Energy Cost', 'Tax' ]\n",
        "alternatives = ['San Jose', 'Cleveland']"
      ],
      "metadata": {
        "id": "I3xJNdjgUgsK"
      },
      "execution_count": null,
      "outputs": []
    },
    {
      "cell_type": "code",
      "source": [
        "matrix_dictionary = get_alternative_pairwise_comparisons(factors, alternatives)\n",
        "\n",
        "priority_vectors_for_alternatives = calculate_priority_vector_for_each_alternative_under_each_factor(matrix_dictionary)\n",
        "\n",
        "calculate_final_score(priority_vectors_for_alternatives, factors_priority_vector)"
      ],
      "metadata": {
        "colab": {
          "base_uri": "https://localhost:8080/"
        },
        "id": "w1E7Dx7uUTRE",
        "outputId": "4f19017b-c8ed-4993-d8c6-15c75e8217bc"
      },
      "execution_count": null,
      "outputs": [
        {
          "name": "stdout",
          "output_type": "stream",
          "text": [
            "On a scale of 1-9, how much better is 'San Jose' compared to 'Cleveland' in terms of 'Hospitals'? If less better, use reciprocal.5\n",
            "On a scale of 1-9, how much better is 'San Jose' compared to 'Cleveland' in terms of 'Population'? If less better, use reciprocal.4.5\n",
            "On a scale of 1-9, how much better is 'San Jose' compared to 'Cleveland' in terms of 'Education'? If less better, use reciprocal.3\n",
            "On a scale of 1-9, how much better is 'San Jose' compared to 'Cleveland' in terms of 'Diversity'? If less better, use reciprocal.5\n",
            "On a scale of 1-9, how much better is 'San Jose' compared to 'Cleveland' in terms of 'Infrastructure'? If less better, use reciprocal.4\n",
            "On a scale of 1-9, how much better is 'San Jose' compared to 'Cleveland' in terms of 'University'? If less better, use reciprocal.4\n",
            "On a scale of 1-9, how much better is 'San Jose' compared to 'Cleveland' in terms of 'Climate Risk'? If less better, use reciprocal.0.25\n",
            "On a scale of 1-9, how much better is 'San Jose' compared to 'Cleveland' in terms of 'Land Cost'? If less better, use reciprocal.0.2\n",
            "On a scale of 1-9, how much better is 'San Jose' compared to 'Cleveland' in terms of 'Labor Cost'? If less better, use reciprocal.0.2\n",
            "On a scale of 1-9, how much better is 'San Jose' compared to 'Cleveland' in terms of 'Energy Cost'? If less better, use reciprocal.0.17\n",
            "On a scale of 1-9, how much better is 'San Jose' compared to 'Cleveland' in terms of 'Tax'? If less better, use reciprocal.1\n"
          ]
        },
        {
          "output_type": "execute_result",
          "data": {
            "text/plain": [
              "[0.7047802548922103, 0.2952197451077898]"
            ]
          },
          "metadata": {},
          "execution_count": 29
        }
      ]
    },
    {
      "cell_type": "code",
      "source": [
        "factors = [\"Hospitals\", \"Population\", \"Education\", \"Diversity\", 'Infrastructure', 'University', 'Climate Risk', 'Land Cost', 'Labor Cost', 'Energy Cost', 'Tax' ]\n",
        "alternatives = ['Dallas', 'Cleveland']"
      ],
      "metadata": {
        "id": "mvjHjReVV5p1"
      },
      "execution_count": null,
      "outputs": []
    },
    {
      "cell_type": "code",
      "source": [
        "matrix_dictionary = get_alternative_pairwise_comparisons(factors, alternatives)\n",
        "\n",
        "priority_vectors_for_alternatives = calculate_priority_vector_for_each_alternative_under_each_factor(matrix_dictionary)\n",
        "\n",
        "calculate_final_score(priority_vectors_for_alternatives, factors_priority_vector)"
      ],
      "metadata": {
        "colab": {
          "base_uri": "https://localhost:8080/"
        },
        "id": "fMfiv5bDV6e4",
        "outputId": "0056accf-b9b1-40e1-80cf-4298ce3e5de0"
      },
      "execution_count": null,
      "outputs": [
        {
          "name": "stdout",
          "output_type": "stream",
          "text": [
            "On a scale of 1-9, how much better is 'Dallas' compared to 'Cleveland' in terms of 'Hospitals'? If less better, use reciprocal.6\n",
            "On a scale of 1-9, how much better is 'Dallas' compared to 'Cleveland' in terms of 'Population'? If less better, use reciprocal.7\n",
            "On a scale of 1-9, how much better is 'Dallas' compared to 'Cleveland' in terms of 'Education'? If less better, use reciprocal.0.33\n",
            "On a scale of 1-9, how much better is 'Dallas' compared to 'Cleveland' in terms of 'Diversity'? If less better, use reciprocal.3\n",
            "On a scale of 1-9, how much better is 'Dallas' compared to 'Cleveland' in terms of 'Infrastructure'? If less better, use reciprocal.0.2\n",
            "On a scale of 1-9, how much better is 'Dallas' compared to 'Cleveland' in terms of 'University'? If less better, use reciprocal.3\n",
            "On a scale of 1-9, how much better is 'Dallas' compared to 'Cleveland' in terms of 'Climate Risk'? If less better, use reciprocal.0.3\n",
            "On a scale of 1-9, how much better is 'Dallas' compared to 'Cleveland' in terms of 'Land Cost'? If less better, use reciprocal.5\n",
            "On a scale of 1-9, how much better is 'Dallas' compared to 'Cleveland' in terms of 'Labor Cost'? If less better, use reciprocal.3\n",
            "On a scale of 1-9, how much better is 'Dallas' compared to 'Cleveland' in terms of 'Energy Cost'? If less better, use reciprocal.1\n",
            "On a scale of 1-9, how much better is 'Dallas' compared to 'Cleveland' in terms of 'Tax'? If less better, use reciprocal.1\n"
          ]
        },
        {
          "output_type": "execute_result",
          "data": {
            "text/plain": [
              "[0.6222085242250641, 0.3777914757749358]"
            ]
          },
          "metadata": {},
          "execution_count": 31
        }
      ]
    }
  ]
}